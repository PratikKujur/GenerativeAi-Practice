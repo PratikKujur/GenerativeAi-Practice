{
 "cells": [
  {
   "cell_type": "code",
   "execution_count": 2,
   "metadata": {},
   "outputs": [
    {
     "data": {
      "text/plain": [
       "['Lorem ipsum dolor sit amet, consectetur adipiscing elit, sed do eiusmod tempor incididunt ut labore et dolore magna aliqua',\n",
       " ' Ut enim ad minim veniam, quis nostrud exercitation ullamco laboris nisi ut aliquip ex ea commodo consequat',\n",
       " ' Duis aute irure dolor in reprehenderit in voluptate velit esse cillum dolore eu fugiat nulla pariatur',\n",
       " ' Excepteur sint occaecat cupidatat non proident, sunt in culpa qui officia deserunt mollit anim id est laborum',\n",
       " '']"
      ]
     },
     "execution_count": 2,
     "metadata": {},
     "output_type": "execute_result"
    }
   ],
   "source": [
    "\"Lorem ipsum dolor sit amet, consectetur adipiscing elit, sed do eiusmod tempor incididunt ut labore et dolore magna aliqua. Ut enim ad minim veniam, quis nostrud exercitation ullamco laboris nisi ut aliquip ex ea commodo consequat. Duis aute irure dolor in reprehenderit in voluptate velit esse cillum dolore eu fugiat nulla pariatur. Excepteur sint occaecat cupidatat non proident, sunt in culpa qui officia deserunt mollit anim id est laborum.\".split(\".\")"
   ]
  },
  {
   "cell_type": "markdown",
   "metadata": {
    "vscode": {
     "languageId": "plaintext"
    }
   },
   "source": [
    "### Bag of words"
   ]
  },
  {
   "cell_type": "code",
   "execution_count": 1,
   "metadata": {},
   "outputs": [],
   "source": [
    "import numpy as np\n",
    "import pandas as pd"
   ]
  },
  {
   "cell_type": "code",
   "execution_count": 4,
   "metadata": {},
   "outputs": [
    {
     "data": {
      "text/html": [
       "<div>\n",
       "<style scoped>\n",
       "    .dataframe tbody tr th:only-of-type {\n",
       "        vertical-align: middle;\n",
       "    }\n",
       "\n",
       "    .dataframe tbody tr th {\n",
       "        vertical-align: top;\n",
       "    }\n",
       "\n",
       "    .dataframe thead th {\n",
       "        text-align: right;\n",
       "    }\n",
       "</style>\n",
       "<table border=\"1\" class=\"dataframe\">\n",
       "  <thead>\n",
       "    <tr style=\"text-align: right;\">\n",
       "      <th></th>\n",
       "      <th>text</th>\n",
       "      <th>output</th>\n",
       "    </tr>\n",
       "  </thead>\n",
       "  <tbody>\n",
       "    <tr>\n",
       "      <th>0</th>\n",
       "      <td>Lorem ipsum dolor sit amet, consectetur adipis...</td>\n",
       "      <td>1</td>\n",
       "    </tr>\n",
       "    <tr>\n",
       "      <th>1</th>\n",
       "      <td>Ut enim ad minim veniam, quis nostrud exercita...</td>\n",
       "      <td>1</td>\n",
       "    </tr>\n",
       "    <tr>\n",
       "      <th>2</th>\n",
       "      <td>Duis aute irure dolor in reprehenderit in volu...</td>\n",
       "      <td>0</td>\n",
       "    </tr>\n",
       "    <tr>\n",
       "      <th>3</th>\n",
       "      <td>Excepteur sint occaecat cupidatat non proident...</td>\n",
       "      <td>0</td>\n",
       "    </tr>\n",
       "  </tbody>\n",
       "</table>\n",
       "</div>"
      ],
      "text/plain": [
       "                                                text  output\n",
       "0  Lorem ipsum dolor sit amet, consectetur adipis...       1\n",
       "1  Ut enim ad minim veniam, quis nostrud exercita...       1\n",
       "2  Duis aute irure dolor in reprehenderit in volu...       0\n",
       "3  Excepteur sint occaecat cupidatat non proident...       0"
      ]
     },
     "execution_count": 4,
     "metadata": {},
     "output_type": "execute_result"
    }
   ],
   "source": [
    "\n",
    "df = pd.DataFrame({\"text\":[\"Lorem ipsum dolor sit amet, consectetur adipiscing elit, sed do eiusmod tempor incididunt ut labore et dolore magna aliqua.\",\n",
    "                         \"Ut enim ad minim veniam, quis nostrud exercitation ullamco laboris nisi ut aliquip ex ea commodo consequat.\",\n",
    "                         \"Duis aute irure dolor in reprehenderit in voluptate velit esse cillum dolore eu fugiat nulla pariatur\",\n",
    "                          \"Excepteur sint occaecat cupidatat non proident, sunt in culpa qui officia deserunt mollit anim id est laborum\"],\"output\":[1,1,0,0]})\n",
    "df"
   ]
  },
  {
   "cell_type": "code",
   "execution_count": 5,
   "metadata": {},
   "outputs": [],
   "source": [
    "\n",
    "from sklearn.feature_extraction.text import CountVectorizer\n",
    "cv = CountVectorizer()"
   ]
  },
  {
   "cell_type": "code",
   "execution_count": 6,
   "metadata": {},
   "outputs": [],
   "source": [
    "\n",
    "bow = cv.fit_transform(df['text'])"
   ]
  },
  {
   "cell_type": "code",
   "execution_count": 7,
   "metadata": {},
   "outputs": [
    {
     "name": "stdout",
     "output_type": "stream",
     "text": [
      "{'lorem': 38, 'ipsum': 33, 'dolor': 15, 'sit': 55, 'amet': 4, 'consectetur': 9, 'adipiscing': 1, 'elit': 20, 'sed': 53, 'do': 14, 'eiusmod': 19, 'tempor': 57, 'incididunt': 32, 'ut': 59, 'labore': 35, 'et': 24, 'dolore': 16, 'magna': 39, 'aliqua': 2, 'enim': 21, 'ad': 0, 'minim': 40, 'veniam': 61, 'quis': 51, 'nostrud': 44, 'exercitation': 28, 'ullamco': 58, 'laboris': 36, 'nisi': 42, 'aliquip': 3, 'ex': 26, 'ea': 18, 'commodo': 8, 'consequat': 10, 'duis': 17, 'aute': 6, 'irure': 34, 'in': 31, 'reprehenderit': 52, 'voluptate': 62, 'velit': 60, 'esse': 22, 'cillum': 7, 'eu': 25, 'fugiat': 29, 'nulla': 45, 'pariatur': 48, 'excepteur': 27, 'sint': 54, 'occaecat': 46, 'cupidatat': 12, 'non': 43, 'proident': 49, 'sunt': 56, 'culpa': 11, 'qui': 50, 'officia': 47, 'deserunt': 13, 'mollit': 41, 'anim': 5, 'id': 30, 'est': 23, 'laborum': 37}\n"
     ]
    }
   ],
   "source": [
    "print(cv.vocabulary_)"
   ]
  },
  {
   "cell_type": "code",
   "execution_count": 8,
   "metadata": {},
   "outputs": [
    {
     "data": {
      "text/plain": [
       "array([[0, 1, 1, 0, 1, 0, 0, 0, 0, 1, 0, 0, 0, 0, 1, 1, 1, 0, 0, 1, 1, 0,\n",
       "        0, 0, 1, 0, 0, 0, 0, 0, 0, 0, 1, 1, 0, 1, 0, 0, 1, 1, 0, 0, 0, 0,\n",
       "        0, 0, 0, 0, 0, 0, 0, 0, 0, 1, 0, 1, 0, 1, 0, 1, 0, 0, 0],\n",
       "       [1, 0, 0, 1, 0, 0, 0, 0, 1, 0, 1, 0, 0, 0, 0, 0, 0, 0, 1, 0, 0, 1,\n",
       "        0, 0, 0, 0, 1, 0, 1, 0, 0, 0, 0, 0, 0, 0, 1, 0, 0, 0, 1, 0, 1, 0,\n",
       "        1, 0, 0, 0, 0, 0, 0, 1, 0, 0, 0, 0, 0, 0, 1, 2, 0, 1, 0],\n",
       "       [0, 0, 0, 0, 0, 0, 1, 1, 0, 0, 0, 0, 0, 0, 0, 1, 1, 1, 0, 0, 0, 0,\n",
       "        1, 0, 0, 1, 0, 0, 0, 1, 0, 2, 0, 0, 1, 0, 0, 0, 0, 0, 0, 0, 0, 0,\n",
       "        0, 1, 0, 0, 1, 0, 0, 0, 1, 0, 0, 0, 0, 0, 0, 0, 1, 0, 1],\n",
       "       [0, 0, 0, 0, 0, 1, 0, 0, 0, 0, 0, 1, 1, 1, 0, 0, 0, 0, 0, 0, 0, 0,\n",
       "        0, 1, 0, 0, 0, 1, 0, 0, 1, 1, 0, 0, 0, 0, 0, 1, 0, 0, 0, 1, 0, 1,\n",
       "        0, 0, 1, 1, 0, 1, 1, 0, 0, 0, 1, 0, 1, 0, 0, 0, 0, 0, 0]],\n",
       "      dtype=int64)"
      ]
     },
     "execution_count": 8,
     "metadata": {},
     "output_type": "execute_result"
    }
   ],
   "source": [
    "bow.toarray()"
   ]
  },
  {
   "cell_type": "code",
   "execution_count": 9,
   "metadata": {},
   "outputs": [
    {
     "name": "stdout",
     "output_type": "stream",
     "text": [
      "[[0 1 1 0 1 0 0 0 0 1 0 0 0 0 1 1 1 0 0 1 1 0 0 0 1 0 0 0 0 0 0 0 1 1 0 1\n",
      "  0 0 1 1 0 0 0 0 0 0 0 0 0 0 0 0 0 1 0 1 0 1 0 1 0 0 0]]\n",
      "[[1 0 0 1 0 0 0 0 1 0 1 0 0 0 0 0 0 0 1 0 0 1 0 0 0 0 1 0 1 0 0 0 0 0 0 0\n",
      "  1 0 0 0 1 0 1 0 1 0 0 0 0 0 0 1 0 0 0 0 0 0 1 2 0 1 0]]\n",
      "[[0 0 0 0 0 0 1 1 0 0 0 0 0 0 0 1 1 1 0 0 0 0 1 0 0 1 0 0 0 1 0 2 0 0 1 0\n",
      "  0 0 0 0 0 0 0 0 0 1 0 0 1 0 0 0 1 0 0 0 0 0 0 0 1 0 1]]\n"
     ]
    }
   ],
   "source": [
    "\n",
    "print(bow[0].toarray())\n",
    "print(bow[1].toarray())\n",
    "print(bow[2].toarray())"
   ]
  },
  {
   "cell_type": "code",
   "execution_count": 10,
   "metadata": {},
   "outputs": [
    {
     "data": {
      "text/plain": [
       "array([[0, 0, 0, 0, 1, 0, 0, 0, 0, 0, 0, 0, 1, 0, 0, 1, 0, 0, 0, 0, 0, 0,\n",
       "        0, 0, 0, 0, 0, 0, 0, 0, 0, 2, 0, 1, 0, 0, 0, 0, 1, 0, 0, 0, 0, 0,\n",
       "        0, 0, 1, 0, 0, 0, 0, 0, 1, 0, 1, 1, 0, 0, 0, 0, 0, 0, 1]],\n",
       "      dtype=int64)"
      ]
     },
     "execution_count": 10,
     "metadata": {},
     "output_type": "execute_result"
    }
   ],
   "source": [
    "cv.transform(['Lorem ipsum dolor sit amet,in reprehenderit in voluptate sint occaecat cupidatat']).toarray()"
   ]
  },
  {
   "cell_type": "markdown",
   "metadata": {},
   "source": [
    "### N-grams"
   ]
  },
  {
   "cell_type": "code",
   "execution_count": 11,
   "metadata": {},
   "outputs": [],
   "source": [
    "from sklearn.feature_extraction.text import CountVectorizer\n",
    "cv = CountVectorizer(ngram_range=(2,2))"
   ]
  },
  {
   "cell_type": "code",
   "execution_count": 13,
   "metadata": {},
   "outputs": [],
   "source": [
    "bow_n_gram = cv.fit_transform(df['text'])"
   ]
  },
  {
   "cell_type": "code",
   "execution_count": 14,
   "metadata": {},
   "outputs": [
    {
     "name": "stdout",
     "output_type": "stream",
     "text": [
      "{'lorem ipsum': 39, 'ipsum dolor': 35, 'dolor sit': 14, 'sit amet': 55, 'amet consectetur': 3, 'consectetur adipiscing': 8, 'adipiscing elit': 1, 'elit sed': 20, 'sed do': 53, 'do eiusmod': 12, 'eiusmod tempor': 19, 'tempor incididunt': 57, 'incididunt ut': 34, 'ut labore': 61, 'labore et': 37, 'et dolore': 24, 'dolore magna': 16, 'magna aliqua': 40, 'ut enim': 60, 'enim ad': 21, 'ad minim': 0, 'minim veniam': 41, 'veniam quis': 63, 'quis nostrud': 51, 'nostrud exercitation': 45, 'exercitation ullamco': 28, 'ullamco laboris': 58, 'laboris nisi': 38, 'nisi ut': 43, 'ut aliquip': 59, 'aliquip ex': 2, 'ex ea': 26, 'ea commodo': 18, 'commodo consequat': 7, 'duis aute': 17, 'aute irure': 5, 'irure dolor': 36, 'dolor in': 13, 'in reprehenderit': 32, 'reprehenderit in': 52, 'in voluptate': 33, 'voluptate velit': 64, 'velit esse': 62, 'esse cillum': 22, 'cillum dolore': 6, 'dolore eu': 15, 'eu fugiat': 25, 'fugiat nulla': 29, 'nulla pariatur': 46, 'excepteur sint': 27, 'sint occaecat': 54, 'occaecat cupidatat': 47, 'cupidatat non': 10, 'non proident': 44, 'proident sunt': 49, 'sunt in': 56, 'in culpa': 31, 'culpa qui': 9, 'qui officia': 50, 'officia deserunt': 48, 'deserunt mollit': 11, 'mollit anim': 42, 'anim id': 4, 'id est': 30, 'est laborum': 23}\n"
     ]
    }
   ],
   "source": [
    "print(cv.vocabulary_)"
   ]
  },
  {
   "cell_type": "code",
   "execution_count": 15,
   "metadata": {},
   "outputs": [
    {
     "name": "stdout",
     "output_type": "stream",
     "text": [
      "[[0 1 0 1 0 0 0 0 1 0 0 0 1 0 1 0 1 0 0 1 1 0 0 0 1 0 0 0 0 0 0 0 0 0 1 1\n",
      "  0 1 0 1 1 0 0 0 0 0 0 0 0 0 0 0 0 1 0 1 0 1 0 0 0 1 0 0 0]]\n",
      "[[1 0 1 0 0 0 0 1 0 0 0 0 0 0 0 0 0 0 1 0 0 1 0 0 0 0 1 0 1 0 0 0 0 0 0 0\n",
      "  0 0 1 0 0 1 0 1 0 1 0 0 0 0 0 1 0 0 0 0 0 0 1 1 1 0 0 1 0]]\n",
      "[[0 0 0 0 0 1 1 0 0 0 0 0 0 1 0 1 0 1 0 0 0 0 1 0 0 1 0 0 0 1 0 0 1 1 0 0\n",
      "  1 0 0 0 0 0 0 0 0 0 1 0 0 0 0 0 1 0 0 0 0 0 0 0 0 0 1 0 1]]\n"
     ]
    }
   ],
   "source": [
    "print(bow_n_gram[0].toarray())\n",
    "print(bow_n_gram[1].toarray())\n",
    "print(bow_n_gram[2].toarray())"
   ]
  },
  {
   "cell_type": "markdown",
   "metadata": {},
   "source": [
    "### TF-IDF (Term frequency- Inverse document frequency)"
   ]
  },
  {
   "cell_type": "code",
   "execution_count": 17,
   "metadata": {},
   "outputs": [],
   "source": [
    "\n",
    "from sklearn.feature_extraction.text import TfidfVectorizer\n",
    "tfid= TfidfVectorizer()"
   ]
  },
  {
   "cell_type": "code",
   "execution_count": 18,
   "metadata": {},
   "outputs": [],
   "source": [
    "arr = tfid.fit_transform(df['text']).toarray()"
   ]
  },
  {
   "cell_type": "code",
   "execution_count": 19,
   "metadata": {},
   "outputs": [
    {
     "data": {
      "text/plain": [
       "array([[0.        , 0.23659262, 0.23659262, 0.        , 0.23659262,\n",
       "        0.        , 0.        , 0.        , 0.        , 0.23659262,\n",
       "        0.        , 0.        , 0.        , 0.        , 0.23659262,\n",
       "        0.18653234, 0.18653234, 0.        , 0.        , 0.23659262,\n",
       "        0.23659262, 0.        , 0.        , 0.        , 0.23659262,\n",
       "        0.        , 0.        , 0.        , 0.        , 0.        ,\n",
       "        0.        , 0.        , 0.23659262, 0.23659262, 0.        ,\n",
       "        0.23659262, 0.        , 0.        , 0.23659262, 0.23659262,\n",
       "        0.        , 0.        , 0.        , 0.        , 0.        ,\n",
       "        0.        , 0.        , 0.        , 0.        , 0.        ,\n",
       "        0.        , 0.        , 0.        , 0.23659262, 0.        ,\n",
       "        0.23659262, 0.        , 0.23659262, 0.        , 0.18653234,\n",
       "        0.        , 0.        , 0.        ],\n",
       "       [0.23913886, 0.        , 0.        , 0.23913886, 0.        ,\n",
       "        0.        , 0.        , 0.        , 0.23913886, 0.        ,\n",
       "        0.23913886, 0.        , 0.        , 0.        , 0.        ,\n",
       "        0.        , 0.        , 0.        , 0.23913886, 0.        ,\n",
       "        0.        , 0.23913886, 0.        , 0.        , 0.        ,\n",
       "        0.        , 0.23913886, 0.        , 0.23913886, 0.        ,\n",
       "        0.        , 0.        , 0.        , 0.        , 0.        ,\n",
       "        0.        , 0.23913886, 0.        , 0.        , 0.        ,\n",
       "        0.23913886, 0.        , 0.23913886, 0.        , 0.23913886,\n",
       "        0.        , 0.        , 0.        , 0.        , 0.        ,\n",
       "        0.        , 0.23913886, 0.        , 0.        , 0.        ,\n",
       "        0.        , 0.        , 0.        , 0.23913886, 0.37707965,\n",
       "        0.        , 0.23913886, 0.        ],\n",
       "       [0.        , 0.        , 0.        , 0.        , 0.        ,\n",
       "        0.        , 0.25214001, 0.25214001, 0.        , 0.        ,\n",
       "        0.        , 0.        , 0.        , 0.        , 0.        ,\n",
       "        0.19879008, 0.19879008, 0.25214001, 0.        , 0.        ,\n",
       "        0.        , 0.        , 0.25214001, 0.        , 0.        ,\n",
       "        0.25214001, 0.        , 0.        , 0.        , 0.25214001,\n",
       "        0.        , 0.39758016, 0.        , 0.        , 0.25214001,\n",
       "        0.        , 0.        , 0.        , 0.        , 0.        ,\n",
       "        0.        , 0.        , 0.        , 0.        , 0.        ,\n",
       "        0.25214001, 0.        , 0.        , 0.25214001, 0.        ,\n",
       "        0.        , 0.        , 0.25214001, 0.        , 0.        ,\n",
       "        0.        , 0.        , 0.        , 0.        , 0.        ,\n",
       "        0.25214001, 0.        , 0.25214001],\n",
       "       [0.        , 0.        , 0.        , 0.        , 0.        ,\n",
       "        0.24528087, 0.        , 0.        , 0.        , 0.        ,\n",
       "        0.        , 0.24528087, 0.24528087, 0.24528087, 0.        ,\n",
       "        0.        , 0.        , 0.        , 0.        , 0.        ,\n",
       "        0.        , 0.        , 0.        , 0.24528087, 0.        ,\n",
       "        0.        , 0.        , 0.24528087, 0.        , 0.        ,\n",
       "        0.24528087, 0.19338226, 0.        , 0.        , 0.        ,\n",
       "        0.        , 0.        , 0.24528087, 0.        , 0.        ,\n",
       "        0.        , 0.24528087, 0.        , 0.24528087, 0.        ,\n",
       "        0.        , 0.24528087, 0.24528087, 0.        , 0.24528087,\n",
       "        0.24528087, 0.        , 0.        , 0.        , 0.24528087,\n",
       "        0.        , 0.24528087, 0.        , 0.        , 0.        ,\n",
       "        0.        , 0.        , 0.        ]])"
      ]
     },
     "execution_count": 19,
     "metadata": {},
     "output_type": "execute_result"
    }
   ],
   "source": [
    "\n",
    "arr"
   ]
  },
  {
   "cell_type": "code",
   "execution_count": 20,
   "metadata": {},
   "outputs": [
    {
     "name": "stdout",
     "output_type": "stream",
     "text": [
      "[1.91629073 1.91629073 1.91629073 1.91629073 1.91629073 1.91629073\n",
      " 1.91629073 1.91629073 1.91629073 1.91629073 1.91629073 1.91629073\n",
      " 1.91629073 1.91629073 1.91629073 1.51082562 1.51082562 1.91629073\n",
      " 1.91629073 1.91629073 1.91629073 1.91629073 1.91629073 1.91629073\n",
      " 1.91629073 1.91629073 1.91629073 1.91629073 1.91629073 1.91629073\n",
      " 1.91629073 1.51082562 1.91629073 1.91629073 1.91629073 1.91629073\n",
      " 1.91629073 1.91629073 1.91629073 1.91629073 1.91629073 1.91629073\n",
      " 1.91629073 1.91629073 1.91629073 1.91629073 1.91629073 1.91629073\n",
      " 1.91629073 1.91629073 1.91629073 1.91629073 1.91629073 1.91629073\n",
      " 1.91629073 1.91629073 1.91629073 1.91629073 1.91629073 1.51082562\n",
      " 1.91629073 1.91629073 1.91629073]\n"
     ]
    }
   ],
   "source": [
    "\n",
    "print(tfid.idf_)"
   ]
  },
  {
   "cell_type": "code",
   "execution_count": null,
   "metadata": {},
   "outputs": [],
   "source": []
  }
 ],
 "metadata": {
  "kernelspec": {
   "display_name": ".venv",
   "language": "python",
   "name": "python3"
  },
  "language_info": {
   "codemirror_mode": {
    "name": "ipython",
    "version": 3
   },
   "file_extension": ".py",
   "mimetype": "text/x-python",
   "name": "python",
   "nbconvert_exporter": "python",
   "pygments_lexer": "ipython3",
   "version": "3.8.0"
  }
 },
 "nbformat": 4,
 "nbformat_minor": 2
}
